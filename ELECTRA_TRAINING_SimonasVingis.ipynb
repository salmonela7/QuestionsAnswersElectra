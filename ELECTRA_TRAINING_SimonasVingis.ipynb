{
 "cells": [
  {
   "cell_type": "code",
   "execution_count": null,
   "metadata": {
    "collapsed": true
   },
   "outputs": [],
   "source": [
    "# !conda install tensorflow-gpu==1.15\n",
    "# !git clone https://github.com/google-research/electra.git\n",
    "# !pip install scipy\n",
    "# !pip install sklearn"
   ]
  },
  {
   "cell_type": "code",
   "execution_count": 27,
   "outputs": [
    {
     "name": "stdout",
     "output_type": "stream",
     "text": [
      "data dir: data\n",
      "================================================================================\n",
      "Config: model=electra_small, trial 1/1\n",
      "================================================================================\n",
      "answerable_classifier True\n",
      "answerable_uses_start_logits True\n",
      "answerable_weight 0.5\n",
      "beam_size 20\n",
      "data_dir data\n",
      "debug False\n",
      "do_eval True\n",
      "do_lower_case True\n",
      "do_train True\n",
      "doc_stride 128\n",
      "double_unordered True\n",
      "embedding_size 128\n",
      "eval_batch_size 32\n",
      "gcp_project None\n",
      "init_checkpoint data\\models\\electra_small\n",
      "iterations_per_loop 1000\n",
      "joint_prediction True\n",
      "keep_all_models True\n",
      "layerwise_lr_decay 0.8\n",
      "learning_rate 0.0001\n",
      "log_examples False\n",
      "max_answer_length 30\n",
      "max_query_length 64\n",
      "max_seq_length 512\n",
      "model_dir data\\models\\electra_small\\finetuning_models\\squad_model\n",
      "model_hparam_overrides {}\n",
      "model_name electra_small\n",
      "model_size small\n",
      "n_best_size 20\n",
      "n_writes_test 5\n",
      "num_tpu_cores 1\n",
      "num_train_epochs 2.0\n",
      "num_trials 1\n",
      "predict_batch_size 32\n",
      "preprocessed_data_dir data\\models\\electra_small\\finetuning_tfrecords\\squad_tfrecords\n",
      "qa_eval_file <built-in method format of str object at 0x00000163DEDB8650>\n",
      "qa_na_file <built-in method format of str object at 0x00000163DEDB8880>\n",
      "qa_na_threshold -2.75\n",
      "qa_preds_file <built-in method format of str object at 0x00000163DEDB8810>\n",
      "raw_data_dir <built-in method format of str object at 0x00000163DEDC9490>\n",
      "results_pkl data\\models\\electra_small\\results\\squad_results.pkl\n",
      "results_txt data\\models\\electra_small\\results\\squad_results.txt\n",
      "save_checkpoints_steps 1000000\n",
      "task_names ['squad']\n",
      "test_predictions <built-in method format of str object at 0x00000163DEDB66B0>\n",
      "tpu_job_name None\n",
      "tpu_name None\n",
      "tpu_zone None\n",
      "train_batch_size 32\n",
      "use_tfrecords_if_existing True\n",
      "use_tpu False\n",
      "vocab_file data\\vocab.txt\n",
      "vocab_size 30522\n",
      "warmup_proportion 0.1\n",
      "weight_decay_rate 0.01\n",
      "write_distill_outputs False\n",
      "write_test_outputs False\n",
      "\n",
      "vocab file: data\\vocab.txt\n",
      "Loading dataset squad_train\n",
      "Existing tfrecords not found so creating\n",
      "130319 examples created, 0 failures\n",
      "output file: data\\models\\electra_small\\finetuning_tfrecords\\squad_tfrecords\\squad_train.tfrecord\n"
     ]
    },
    {
     "name": "stderr",
     "output_type": "stream",
     "text": [
      "2021-05-27 20:46:19.695872: I tensorflow/stream_executor/platform/default/dso_loader.cc:48] Successfully opened dynamic library cudart64_101.dll\n",
      "Traceback (most recent call last):\n",
      "  File \"electra/run_finetuning.py\", line 324, in <module>\n",
      "    main()\n",
      "  File \"electra/run_finetuning.py\", line 320, in main\n",
      "    args.model_name, args.data_dir, **hparams))\n",
      "  File \"electra/run_finetuning.py\", line 267, in run_finetuning\n",
      "    model_runner = ModelRunner(config, tasks)\n",
      "  File \"electra/run_finetuning.py\", line 164, in __init__\n",
      "    self.train_steps) = self._preprocessor.prepare_train()\n",
      "  File \"C:\\Users\\vingi\\PycharmProjects\\Electra_SimonasVingis\\electra\\finetune\\preprocessing.py\", line 51, in prepare_train\n",
      "    return self._serialize_dataset(self._tasks, True, \"train\")\n",
      "  File \"C:\\Users\\vingi\\PycharmProjects\\Electra_SimonasVingis\\electra\\finetune\\preprocessing.py\", line 83, in _serialize_dataset\n",
      "    examples, is_training, tfrecords_path, batch_size)\n",
      "  File \"C:\\Users\\vingi\\PycharmProjects\\Electra_SimonasVingis\\electra\\finetune\\preprocessing.py\", line 100, in serialize_examples\n",
      "    with tf.io.TFRecordWriter(output_file) as writer:\n",
      "  File \"C:\\Users\\vingi\\anaconda3\\envs\\Electra_SimonasVingis\\lib\\site-packages\\tensorflow\\python\\lib\\io\\tf_record.py\", line 299, in __init__\n",
      "    compat.as_bytes(path), options._as_record_writer_options())\n",
      "tensorflow.python.framework.errors_impl.UnknownError: Failed to create a NewWriteableFile: data\\models\\electra_small\\finetuning_tfrecords\\squad_tfrecords\\squad_train.tfrecord : Access is denied.\n",
      "\n",
      "; Input/output error\n"
     ]
    }
   ],
   "source": [
    "import json\n",
    "\n",
    "hparams = {\n",
    "    \"model_size\": \"small\",\n",
    "    \"task_names\": [\"squad\"],\n",
    "    \"do_eval\": \"False\"\n",
    "}\n",
    "\n",
    "with open(\"hparams.json\", \"w\") as f:\n",
    "    json.dump(hparams, f)"
   ],
   "metadata": {
    "collapsed": false,
    "pycharm": {
     "name": "#%%\n"
    }
   }
  },
  {
   "cell_type": "code",
   "execution_count": 1,
   "outputs": [],
   "source": [
    "!python electra/run_finetuning.py --data-dir data --model-name electra_small --hparams \"hparams.json\""
   ],
   "metadata": {
    "collapsed": false,
    "pycharm": {
     "name": "#%%\n"
    }
   }
  }
 ],
 "metadata": {
  "kernelspec": {
   "display_name": "Python 3",
   "language": "python",
   "name": "python3"
  },
  "language_info": {
   "codemirror_mode": {
    "name": "ipython",
    "version": 2
   },
   "file_extension": ".py",
   "mimetype": "text/x-python",
   "name": "python",
   "nbconvert_exporter": "python",
   "pygments_lexer": "ipython2",
   "version": "2.7.6"
  }
 },
 "nbformat": 4,
 "nbformat_minor": 0
}